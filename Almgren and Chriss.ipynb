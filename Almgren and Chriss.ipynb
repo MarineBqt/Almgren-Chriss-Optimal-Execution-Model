{
 "cells": [
  {
   "cell_type": "markdown",
   "id": "ac29ff30",
   "metadata": {},
   "source": [
    "# <center>Almgren and Chriss Model</center>"
   ]
  },
  {
   "cell_type": "markdown",
   "id": "310814b9",
   "metadata": {},
   "source": [
    "The model of Almgren and Chriss is often used in the context of quantitative portfolio management, where it can be used to optimize trades based on the impact they will have on asset prices.   \n",
    "Let us consider a quantity X to be liquidated in increments $n_1…n_k$ with $x_k$ quantity which remains to be liquidated. We want everything to be sold at t=T.\n",
    "\n",
    "**<u>Permanent market impact</u>** :\n",
    "Refers to the long-term change in the market price of an asset resulting from a trade. This is the portion of the market impact that persists even after the trade has been completed. Therefore, the \"equilibrum price\" of the asset is modified in a permanent way:\n",
    "\n",
    "$$S_k=S_{k-1}+\\sigma \\sqrt{\\tau} \\epsilon_k -\\tau g(n_k/\\tau)$$\n",
    "\n",
    "**<u>Temporary market impact</u>** :\n",
    "Refers to the short-term change in the price of an asset that is caused by the presence of the trade in the market. This is the portion of the market impact that disappears once the trade has been completed. Temporary market impact is typically associated with the transaction costs (difference between the bid and the ask price):\n",
    "\n",
    "$$\\overline{S_k}=S_{k-1}-h(n_k/\\tau)$$\n",
    "\n",
    "**<u>Cost of Trading</u>** :\n",
    "\n",
    "The result of the sell of the asset is :\n",
    "\n",
    "$$\\sum\\limits_{k=1} ^{N}n_k\\overline{S_k}=XS_0+\\sum\\limits_{k=1} ^{N}(\\sigma \\sqrt{\\tau} \\epsilon_k -\\tau g(n_k/\\tau))x_k -\\sum\\limits_{k=1} ^{N}n_k h(n_k/\\tau)$$\n",
    "\n",
    "$XS_0$ represents what we were hoping to gain if we didn't have other costs.  \n",
    "We define the trading cost as : $C=XS_0-\\sum\\limits_{k=1} ^{N}n_k \\overline{S_k}$\n",
    "\n",
    "In the Almgren-Chriss model, both permanent and temporary market impact are taken into account when computing the optimal trade execution strategy. By minimizing both types of market impact, a trader can minimize the cost of executing a trade.\n",
    "So we will look for strategies minimizing :\n",
    "\n",
    "$$E[C]+\\lambda V[C]$$\n",
    "\n",
    "with:  \n",
    "\n",
    "$$E(C)=\\sum\\limits _{k=1} ^{N}[\\tau x_k g(\\frac{n_k}{\\tau})+n_k h(\\frac{n_k}{\\tau})]$$\n",
    "\n",
    "$$V(C)=\\sigma^2\\sum\\limits _{k=1} ^{N}\\tau x_k^2$$\n",
    "\n",
    "$$\\lambda : \\text{risk aversion parameter}$$    \n",
    "\n",
    "\n",
    "**<u>Hypothèse d'Almgren et Chriss</u> : Impact Linéaire** : \n",
    "\n",
    "$$\\sum\\limits _{k=1} ^{N}\\tau x_k g(\\frac{n_k}{\\tau})=\\frac{1}{2}\\gamma X^2-\\frac{1}{2}\\gamma \\sum\\limits _{k=1} ^{N} n_k^2 $$\n",
    "\n",
    "$$n_k h(\\frac{n_k}{\\tau})=\\xi \\left|{n_k}\\right|+\\frac{\\eta n_k^2}{\\tau}$$     \n",
    "\n",
    "So $$E[C]+\\lambda V[C]=\\frac{1}{2}\\gamma X^2 -\\frac{1}{2}\\gamma\\sum\\limits _{k=1} ^{N}n_k^2+\\xi \\sum\\limits _{k=1} ^{N}\\left| n_k \\right|+\\frac{\\eta}{\\tau}\\sum\\limits _{k=1} ^{N}n_k^2$$  \n",
    "\n",
    "with : $\\xi$ half of the bid-ask spread. \n",
    "\n",
    "**<u>Optimal Strategies</u>** :\n",
    "$$x_k=\\frac{\\sinh(\\kappa(T-k\\tau))}{\\sinh(\\kappa T)}X$$  \n",
    "\n",
    "with :\n",
    "\n",
    "$$\\kappa=\\sqrt{\\frac{\\lambda\\sigma^2}{\\eta}}$$  \n",
    "\n",
    "\n",
    "**<u>Other parameters</u>** :\n",
    "\n",
    "$$\\eta=\\frac{Spread}{0.01\\times \\text{Daily Volume}}$$\n",
    "\n",
    "$$\\gamma=\\frac{Spread}{0.1\\times \\text{Daily Volume}}$$\n"
   ]
  },
  {
   "cell_type": "code",
   "execution_count": 3,
   "id": "b2ba2a33",
   "metadata": {},
   "outputs": [],
   "source": [
    "import numpy as np\n",
    "import matplotlib.pyplot as plt\n",
    "\n",
    "#xk : quantité qu'il reste à liquider\n",
    "def x(k, kappa, T, tau, X):\n",
    "    numerator = np.sinh(kappa*(T-(k*tau)))*X   \n",
    "    denominator = np.sinh(kappa*T)\n",
    "    return(numerator/denominator)\n",
    "\n",
    "#nk : quantité déja liquidé\n",
    "def n(X,k,kappa,T,tau):\n",
    "    return X-x(k, kappa, T, tau, X)\n",
    "    \n",
    "#Espérance\n",
    "def E(df, N, tau, gamma, eta,X,kappa,T): #risque de liquidité\n",
    "    e=df['spread'].mean()/2\n",
    "    somme_nk2 = 0\n",
    "    somme_nk=0\n",
    "    for k in range (1,N):\n",
    "        somme_nk2 = somme_nk2 + pow(n(X,k,kappa,T,tau),2)\n",
    "        somme_nk=somme_nk+abs(n(X,k,kappa,T,tau))\n",
    "    return 0.5*gamma*pow(X,2)+e*somme_nk+(eta*somme_nk2/tau)-0.5*gamma*somme_nk2\n",
    "\n",
    "#Variance \n",
    "def V (var,tau,X,T,kappa): #risque de marché \n",
    "    somme = 0\n",
    "    for k in range (1,N):\n",
    "        somme = somme + pow(x(k, kappa, T, tau, X),2)\n",
    "    return var*somme*tau\n"
   ]
  },
  {
   "cell_type": "code",
   "execution_count": 8,
   "id": "595c4f59",
   "metadata": {},
   "outputs": [],
   "source": [
    "#main\n",
    "import pandas as pd\n",
    "df= pd.read_excel('Data.xlsx',header=0,names=['date', 'spread','volume','sign','price'])\n",
    "\n",
    "#Paramètres\n",
    "X=500 #1000 10000 #quantité à liquider\n",
    "T = 1\n",
    "N = 24\n",
    "tau = T/N \n",
    "var=np.var(df['price'])\n",
    "ld=pow(10,-2) #ld=0.0001 #0.001 #0.01 \n",
    "\n",
    "df2=df[df['volume'].isnull()==False]\n",
    "df2=df2.reset_index()\n",
    "\n",
    "#gamma k\n",
    "gamma=df2['spread'].mean()/(0.01*df2['volume'].sum())\n",
    "\n",
    "#eta\n",
    "eta=df2['spread'].mean()/(0.1*df2['volume'].sum())\n",
    "#eta=eta-gamma*tau/2\n",
    "\n",
    "#kappa\n",
    "kappa = np.sqrt(ld * var/eta)\n",
    "\n",
    "#Variance Espérance\n",
    "Variance= V(var,tau,X,T,kappa)\n",
    "Espérance= E(df, N, tau, gamma, eta,X,kappa,T)\n",
    "\n",
    "#Liquidation srategy \n",
    "def Liquidation(N,kappa,T,tau,X):\n",
    "    xk=[]\n",
    "    nk=[]\n",
    "    for k in range (N+1):\n",
    "        xk.append(x(k, kappa, T, tau, X))\n",
    "        nk.append(n(X,k,kappa,T,tau))\n",
    "    return xk,nk"
   ]
  },
  {
   "cell_type": "code",
   "execution_count": 9,
   "id": "55e37529",
   "metadata": {},
   "outputs": [
    {
     "name": "stdout",
     "output_type": "stream",
     "text": [
      "Gamma :  0.0006776051543251046\n",
      "eta :  6.776051543251045e-05\n",
      "kappa:  5.306753372002588\n",
      "Espérance :  5971.065379795364\n",
      "Variance :  3571.8709526245466\n"
     ]
    }
   ],
   "source": [
    "print(\"Gamma : \",gamma)\n",
    "print(\"eta : \",eta)\n",
    "print(\"kappa: \",kappa)\n",
    "print(\"Espérance : \",Espérance)\n",
    "print(\"Variance : \",Variance)"
   ]
  },
  {
   "cell_type": "markdown",
   "id": "aaced256",
   "metadata": {},
   "source": [
    "**<br><u>Liquidation Strategy : </u></br>**  \n",
    "Start by Liquidating a large quantity then liquidate less and less\n",
    "(fear of being exposed to market risk). We will choose λ=0.01"
   ]
  },
  {
   "cell_type": "code",
   "execution_count": 13,
   "id": "c972e18e",
   "metadata": {},
   "outputs": [
    {
     "name": "stdout",
     "output_type": "stream",
     "text": [
      "\n",
      "Liquidation Strategy :\n",
      " [[500.           0.        ]\n",
      " [400.80687486  99.19312514]\n",
      " [321.28985863 178.71014137]\n",
      " [257.54536191 242.45463809]\n",
      " [206.44408792 293.55591208]\n",
      " [165.47741144 334.52258856]\n",
      " [132.63422729 367.36577271]\n",
      " [106.30222262 393.69777738]\n",
      " [ 85.18872652 414.81127348]\n",
      " [ 68.25725116 431.74274884]\n",
      " [ 54.6766093  445.3233907 ]\n",
      " [ 43.78011033 456.21988967]\n",
      " [ 35.03283153 464.96716847]\n",
      " [ 28.00535807 471.99464193]\n",
      " [ 22.35270255 477.64729745]\n",
      " [ 17.79736904 482.20263096]\n",
      " [ 14.11573056 485.88426944]\n",
      " [ 11.12705087 488.87294913]\n",
      " [  8.68461198 491.31538802]\n",
      " [  6.66851151 493.33148849]\n",
      " [  4.97977659 495.02022341]\n",
      " [  3.5355051  496.4644949 ]\n",
      " [  2.26479596 497.73520404]\n",
      " [  1.10526848 498.89473152]\n",
      " [  0.         500.        ]]\n"
     ]
    }
   ],
   "source": [
    "xk,nk=Liquidation(N,kappa,T,tau,X)\n",
    "liq_strat=np.array([xk, nk]).transpose()\n",
    "print('\\nLiquidation Strategy :\\n',liq_strat)"
   ]
  },
  {
   "cell_type": "code",
   "execution_count": 14,
   "id": "aead9412",
   "metadata": {},
   "outputs": [
    {
     "data": {
      "image/png": "[encoded data removed]",
      "text/plain": [
       "<Figure size 432x288 with 1 Axes>"
      ]
     },
     "metadata": {
      "needs_background": "light"
     },
     "output_type": "display_data"
    }
   ],
   "source": [
    "t=np.linspace(0,N,N+1)\n",
    "plt.plot(t,xk)\n",
    "plt.title(f\"Liquidation Strategy $\\lambda$ = {ld}\")\n",
    "plt.xlabel(\"Time Periods\")\n",
    "plt.ylabel(\"Share Holdings\")\n",
    "plt.show()"
   ]
  },
  {
   "cell_type": "markdown",
   "id": "febd424c",
   "metadata": {},
   "source": [
    "**<u>Remarque</u>** :   \n",
    "La solution dépend de lambda qui est spécifique au trader et des paramètres du marché."
   ]
  }
 ],
 "metadata": {
  "kernelspec": {
   "display_name": "Python 3 (ipykernel)",
   "language": "python",
   "name": "python3"
  },
  "language_info": {
   "codemirror_mode": {
    "name": "ipython",
    "version": 3
   },
   "file_extension": ".py",
   "mimetype": "text/x-python",
   "name": "python",
   "nbconvert_exporter": "python",
   "pygments_lexer": "ipython3",
   "version": "3.9.7"
  }
 },
 "nbformat": 4,
 "nbformat_minor": 5
}
